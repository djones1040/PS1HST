{
 "cells": [
  {
   "cell_type": "markdown",
   "metadata": {},
   "source": [
    "# PS1 HST Project Intro"
   ]
  },
  {
   "cell_type": "markdown",
   "metadata": {},
   "source": [
    "This is a brief tutorial for inspecting HST and Pan-STARRS images through Python.  In addition to these steps, DS9 (http://ds9.si.edu/site/Home.html) is extremely useful software for viewing and manipulating images.  I'll put up an additional tutorial for DS9 soon.\n",
    "\n",
    "Astronomical images are in FITS format, which stands for Flexible Image Transport System.  In Python, the best way to read them is using the Astropy package.  Assuming you've transferred the HST and Pan-STARRS test data from Ziggy, you can start reading in the data."
   ]
  },
  {
   "cell_type": "markdown",
   "metadata": {},
   "source": [
    "### Getting Started"
   ]
  },
  {
   "cell_type": "code",
   "execution_count": null,
   "metadata": {},
   "outputs": [],
   "source": [
    "# import a few standard packages\n",
    "import numpy as np\n",
    "import matplotlib.pyplot as plt\n",
    "from astropy.io import fits\n",
    "%matplotlib inline\n",
    "# this last line shows plots in the notebook"
   ]
  },
  {
   "cell_type": "code",
   "execution_count": null,
   "metadata": {},
   "outputs": [],
   "source": [
    "hdu = fits.open('370330/acs_f814w_drz.fits')\n",
    "header = hdu[0].header\n",
    "data = hdu[0].data"
   ]
  },
  {
   "cell_type": "markdown",
   "metadata": {},
   "source": [
    "FITS images have header information and then the actual image data.  Let's check out the header first.  A lot of this information is not necessary to understand, but in short the header defines the coordinates of the image on the sky, the filter (color) through which the image was taken, and a number of other useful things."
   ]
  },
  {
   "cell_type": "code",
   "execution_count": null,
   "metadata": {},
   "outputs": [],
   "source": [
    "header"
   ]
  },
  {
   "cell_type": "markdown",
   "metadata": {},
   "source": [
    "Next, let's check out the data, which is formatted as a numpy array."
   ]
  },
  {
   "cell_type": "code",
   "execution_count": null,
   "metadata": {},
   "outputs": [],
   "source": [
    "data"
   ]
  },
  {
   "cell_type": "code",
   "execution_count": null,
   "metadata": {},
   "outputs": [],
   "source": [
    "# vmin and vmax are just from trial and error, for now\n",
    "plt.imshow(data,vmin=-0.05,vmax=100.0,cmap=\"gray\")"
   ]
  },
  {
   "cell_type": "markdown",
   "metadata": {},
   "source": [
    "### Inspecting the Host Galaxy of the Supernova"
   ]
  },
  {
   "cell_type": "markdown",
   "metadata": {},
   "source": [
    "To find out where the supernova is, we start with its position on the sky.  Astronomical objects are identified by two coordinates, right ascension and declination (RA and Dec).  Coordinates are given by the file in the git repo, mds_sne.txt"
   ]
  },
  {
   "cell_type": "code",
   "execution_count": null,
   "metadata": {},
   "outputs": [],
   "source": [
    "snid,ra,dec = np.loadtxt('mds_sne.txt',unpack=True,dtype=\"U10,f8,f8\")\n",
    "print(ra[snid == '370330'][0],dec[snid == '370330'][0])"
   ]
  },
  {
   "cell_type": "markdown",
   "metadata": {},
   "source": [
    "Now we have the RA/Dec, and we use Astropy to convert into x,y coordinates of the image."
   ]
  },
  {
   "cell_type": "code",
   "execution_count": null,
   "metadata": {},
   "outputs": [],
   "source": [
    "from astropy.wcs import WCS\n",
    "hstwcs = WCS('370330/acs_f814w_drz.fits')\n",
    "coords = hstwcs.wcs_world2pix([(ra[snid == '370330'][0],dec[snid == '370330'][0])],0)\n",
    "x_sn, y_sn = coords[0]\n",
    "print(\"our SN position is (x,y) = %.2f,%.2f\"%(x_sn,y_sn))"
   ]
  },
  {
   "cell_type": "markdown",
   "metadata": {},
   "source": [
    "Notice that Charlie has pre-processed these images so that they are centered on the supernova already!  Now, let's take a look at the SN host galaxy by plotting a cutout of the image array.  Don't forget that in python, the first index is Y and the *second* index is X.  \n",
    "\n",
    "Last important but annoying thing - in Python, array[0:10] selects array elements 0-9.  So there's a +1 at the end of my indexes.  And indexes must be integers, of course.\n",
    "\n",
    "If you play with the vmax key, you can see more or less of the galaxy.  I'm using a low vmax value so that you can see that there is a little bit of galaxy flux at the SN location."
   ]
  },
  {
   "cell_type": "code",
   "execution_count": null,
   "metadata": {},
   "outputs": [],
   "source": [
    "half_box_size = 100\n",
    "subim = data[int(y_sn-half_box_size):int(y_sn+half_box_size+1),\n",
    "             int(x_sn-half_box_size):int(x_sn+half_box_size+1)]\n",
    "plt.imshow(subim,vmin=-0.05,vmax=700)\n",
    "plt.plot(half_box_size,half_box_size,'+',ms=20,color='r')"
   ]
  },
  {
   "cell_type": "markdown",
   "metadata": {},
   "source": [
    "### Checking out the Pixels"
   ]
  },
  {
   "cell_type": "markdown",
   "metadata": {},
   "source": [
    "The pixels of the image themselves are calibrated to give you real fluxes in some (for now) arbitrary units.  Let's see how bright the SN pixel is compared to the other pixels."
   ]
  },
  {
   "cell_type": "code",
   "execution_count": null,
   "metadata": {},
   "outputs": [],
   "source": [
    "plt.hist(subim.flatten())\n",
    "plt.yscale('log')\n",
    "plt.axvline(subim[half_box_size,half_box_size],color='r')\n",
    "plt.xlabel('Pixel Value')\n",
    "plt.ylabel('Number')\n",
    "print('Pixel at the SN location has host galaxy flux %.3f'%subim[half_box_size,half_box_size])"
   ]
  },
  {
   "cell_type": "markdown",
   "metadata": {},
   "source": [
    "What if we only want pixels that are part of the galaxy, rather than the background?  For that we need to figure out what the approximate size of the galaxy really is.  Let's tackle that later :)."
   ]
  },
  {
   "cell_type": "code",
   "execution_count": null,
   "metadata": {},
   "outputs": [],
   "source": []
  }
 ],
 "metadata": {
  "kernelspec": {
   "display_name": "Python 3",
   "language": "python",
   "name": "python3"
  },
  "language_info": {
   "codemirror_mode": {
    "name": "ipython",
    "version": 3
   },
   "file_extension": ".py",
   "mimetype": "text/x-python",
   "name": "python",
   "nbconvert_exporter": "python",
   "pygments_lexer": "ipython3",
   "version": "3.7.3"
  }
 },
 "nbformat": 4,
 "nbformat_minor": 2
}
